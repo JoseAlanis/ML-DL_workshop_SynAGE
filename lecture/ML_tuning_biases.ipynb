{
 "cells": [
  {
   "cell_type": "markdown",
   "metadata": {
    "slideshow": {
     "slide_type": "slide"
    }
   },
   "source": [
    "# Tuning an estimator\n",
    "\n",
    "\n",
    "[José C. García Alanis (he/him)](https://github.com/JoseAlanis)  \n",
    "Research Fellow - Child and Adolescent Psychology at [Uni Marburg](https://www.uni-marburg.de/de)  \n",
    "Member - [RTG 2271 | Breaking Expectations](https://www.uni-marburg.de/en/fb04/rtg-2271), [Brainhack](https://brainhack.org/)\n",
    "\n",
    "<img align=\"left\" src=\"https://raw.githubusercontent.com/G0RELLA/gorella_mwn/master/lecture/static/Twitter%20social%20icons%20-%20circle%20-%20blue.png\" alt=\"logo\" title=\"Twitter\" width=\"30\" height=\"30\" /> <img align=\"left\" src=\"https://raw.githubusercontent.com/G0RELLA/gorella_mwn/master/lecture/static/GitHub-Mark-120px-plus.png\" alt=\"logo\" title=\"Github\" width=\"30\" height=\"30\" />   &nbsp;&nbsp;@JoiAlhaniz \n",
    "\n",
    "\n",
    "<img align=\"right\" src=\"https://raw.githubusercontent.com/PeerHerholz/ML-DL_workshop_SynAGE/master/lecture/static/ml-dl_workshop.png\" alt=\"logo\" title=\"Github\" width=\"400\" height=\"280\" />"
   ]
  },
  {
   "cell_type": "markdown",
   "metadata": {
    "slideshow": {
     "slide_type": "subslide"
    }
   },
   "source": [
    "### Aim(s) of this section\n",
    "\n",
    "It's very important to learn when and where its appropriate to \"tweak\" your model.\n",
    "\n",
    "\n",
    "Since we have done all of the previous analysis in our training data, it's fine to try out different models.\n",
    "\n",
    "But we absolutely cannot \"test\" it on our *left out data*. If we do, we are in great danger of overfitting.\n",
    "\n",
    "It is not uncommon to try other models, or tweak hyperparameters. In this case, due to our relatively small sample size, we are probably not powered sufficiently to do so, and we would once again risk overfitting. However, for the sake of demonstration, we will do some tweaking."
   ]
  },
  {
   "cell_type": "markdown",
   "metadata": {
    "slideshow": {
     "slide_type": "subslide"
    }
   },
   "source": [
    "We will try a few different examples:\n",
    "- normalizing our target data\n",
    "- tweaking our hyperparameters\n",
    "- trying a more complicated model\n",
    "- feature selection\n",
    "\n"
   ]
  },
  {
   "cell_type": "markdown",
   "metadata": {
    "slideshow": {
     "slide_type": "slide"
    }
   },
   "source": [
    "### Prepare data for model\n",
    "\n",
    "Lets bring back our example data set"
   ]
  },
  {
   "cell_type": "code",
   "execution_count": 1,
   "metadata": {
    "slideshow": {
     "slide_type": "subslide"
    }
   },
   "outputs": [
    {
     "name": "stdout",
     "output_type": "stream",
     "text": [
      "There are 155 samples and 2016 features\n"
     ]
    }
   ],
   "source": [
    "import numpy as np\n",
    "import pandas as pd\n",
    "\n",
    "# get the data set\n",
    "data = np.load('MAIN2019_BASC064_subsamp_features.npz')['a']\n",
    "\n",
    "# get the labels\n",
    "info = pd.read_csv('participants.csv')\n",
    "\n",
    "\n",
    "print('There are %s samples and %s features' % (data.shape[0], data.shape[1]))"
   ]
  },
  {
   "cell_type": "markdown",
   "metadata": {
    "slideshow": {
     "slide_type": "subslide"
    }
   },
   "source": [
    "We'll set `Age` as target\n",
    "- i.e., well look at these from the `regression` perspective"
   ]
  },
  {
   "cell_type": "code",
   "execution_count": 19,
   "metadata": {
    "scrolled": true,
    "slideshow": {
     "slide_type": "subslide"
    }
   },
   "outputs": [
    {
     "data": {
      "text/plain": [
       "count    155.000000\n",
       "mean      10.555189\n",
       "std        8.071957\n",
       "min        3.518138\n",
       "25%        5.300000\n",
       "50%        7.680000\n",
       "75%       10.975000\n",
       "max       39.000000\n",
       "Name: Age, dtype: float64"
      ]
     },
     "execution_count": 19,
     "metadata": {},
     "output_type": "execute_result"
    }
   ],
   "source": [
    "# set age as target\n",
    "Y_con = info['Age']\n",
    "Y_con.describe()"
   ]
  },
  {
   "cell_type": "markdown",
   "metadata": {
    "slideshow": {
     "slide_type": "slide"
    }
   },
   "source": [
    "### Model specification\n",
    "\n",
    "Now let's bring back the model specifications we used last time"
   ]
  },
  {
   "cell_type": "code",
   "execution_count": 21,
   "metadata": {
    "slideshow": {
     "slide_type": "subslide"
    }
   },
   "outputs": [],
   "source": [
    "from sklearn.model_selection import train_test_split\n",
    "\n",
    "# split the data\n",
    "X_train, X_test, y_train, y_test = train_test_split(data, Y_con, random_state=0)\n",
    "\n",
    "# use `AgeGroup` for stratification\n",
    "age_class2 = info.loc[y_train.index,'AgeGroup']"
   ]
  },
  {
   "cell_type": "markdown",
   "metadata": {
    "slideshow": {
     "slide_type": "slide"
    }
   },
   "source": [
    "### Normalize the target data¶"
   ]
  },
  {
   "cell_type": "code",
   "execution_count": 40,
   "metadata": {
    "slideshow": {
     "slide_type": "subslide"
    }
   },
   "outputs": [
    {
     "data": {
      "text/plain": [
       "<matplotlib.legend.Legend at 0x7fd994889c40>"
      ]
     },
     "execution_count": 40,
     "metadata": {},
     "output_type": "execute_result"
    },
    {
     "data": {
      "image/png": "[encoded data removed]",
      "text/plain": [
       "<Figure size 360x360 with 1 Axes>"
      ]
     },
     "metadata": {
      "needs_background": "light"
     },
     "output_type": "display_data"
    }
   ],
   "source": [
    "# plot the data\n",
    "sns.displot(y_train,label='train')\n",
    "plt.legend()"
   ]
  },
  {
   "cell_type": "code",
   "execution_count": 24,
   "metadata": {
    "slideshow": {
     "slide_type": "subslide"
    }
   },
   "outputs": [],
   "source": [
    "# create a log transformer function and log transform Y (age)\n",
    "from sklearn.preprocessing import FunctionTransformer\n",
    "\n",
    "log_transformer = FunctionTransformer(func = np.log, validate=True)\n",
    "log_transformer.fit(y_train.values.reshape(-1,1))\n",
    "y_train_log = log_transformer.transform(y_train.values.reshape(-1,1))[:,0]"
   ]
  },
  {
   "cell_type": "markdown",
   "metadata": {
    "slideshow": {
     "slide_type": "subslide"
    }
   },
   "source": [
    "Now let's plot the transformed data"
   ]
  },
  {
   "cell_type": "code",
   "execution_count": 42,
   "metadata": {
    "scrolled": true,
    "slideshow": {
     "slide_type": "subslide"
    }
   },
   "outputs": [
    {
     "data": {
      "text/plain": [
       "<matplotlib.legend.Legend at 0x7fd995566940>"
      ]
     },
     "execution_count": 42,
     "metadata": {},
     "output_type": "execute_result"
    },
    {
     "data": {
      "image/png": "[encoded data removed]",
      "text/plain": [
       "<Figure size 360x360 with 1 Axes>"
      ]
     },
     "metadata": {
      "needs_background": "light"
     },
     "output_type": "display_data"
    }
   ],
   "source": [
    "import matplotlib.pyplot as plt\n",
    "import seaborn as sns\n",
    "\n",
    "sns.displot(y_train_log,label='test log')\n",
    "plt.legend()"
   ]
  },
  {
   "cell_type": "markdown",
   "metadata": {
    "slideshow": {
     "slide_type": "subslide"
    }
   },
   "source": [
    "and go on with fitting the model to the log-tranformed data"
   ]
  },
  {
   "cell_type": "code",
   "execution_count": 44,
   "metadata": {
    "slideshow": {
     "slide_type": "subslide"
    }
   },
   "outputs": [],
   "source": [
    "# split the data\n",
    "X_train2, X_test, y_train2, y_test = train_test_split(\n",
    "    X_train, # x\n",
    "    y_train, # y\n",
    "    test_size = 0.25, # 75%/25% split  \n",
    "    shuffle = True, # shuffle dataset before splitting\n",
    "    stratify = age_class2,  # keep distribution of age class consistent\n",
    "                            # betw. train & test sets.\n",
    "    random_state = 0 # same shuffle each time\n",
    ")"
   ]
  },
  {
   "cell_type": "code",
   "execution_count": 45,
   "metadata": {
    "slideshow": {
     "slide_type": "subslide"
    }
   },
   "outputs": [
    {
     "name": "stdout",
     "output_type": "stream",
     "text": [
      "R2: 0.6565364559090001\n",
      "MAE: 0.27044306981575505\n"
     ]
    },
    {
     "data": {
      "text/plain": [
       "Text(0, 0.5, 'Log Age')"
      ]
     },
     "execution_count": 45,
     "metadata": {},
     "output_type": "execute_result"
    },
    {
     "data": {
      "image/png": "[encoded data removed]",
      "text/plain": [
       "<Figure size 432x288 with 1 Axes>"
      ]
     },
     "metadata": {
      "needs_background": "light"
     },
     "output_type": "display_data"
    }
   ],
   "source": [
    "from sklearn.svm import SVR\n",
    "from sklearn.model_selection import cross_val_predict, cross_val_score\n",
    "from sklearn.metrics import r2_score, mean_absolute_error\n",
    "\n",
    "# re-intialize the model\n",
    "lin_svr = SVR(kernel='linear') \n",
    "\n",
    "# predict\n",
    "y_pred = cross_val_predict(lin_svr, X_train, y_train_log, cv=10)\n",
    "\n",
    "# scores\n",
    "acc = r2_score(y_train_log, y_pred)\n",
    "mae = mean_absolute_error(y_train_log,y_pred)"
   ]
  },
  {
   "cell_type": "code",
   "execution_count": 46,
   "metadata": {
    "slideshow": {
     "slide_type": "subslide"
    }
   },
   "outputs": [
    {
     "name": "stdout",
     "output_type": "stream",
     "text": [
      "R2: 0.6565364559090001\n",
      "MAE: 0.27044306981575505\n"
     ]
    }
   ],
   "source": [
    "# check the accuracy\n",
    "print('R2:', acc)\n",
    "print('MAE:', mae)"
   ]
  },
  {
   "cell_type": "code",
   "execution_count": 49,
   "metadata": {
    "slideshow": {
     "slide_type": "subslide"
    }
   },
   "outputs": [
    {
     "data": {
      "text/plain": [
       "Text(0, 0.5, 'Log Age')"
      ]
     },
     "execution_count": 49,
     "metadata": {},
     "output_type": "execute_result"
    },
    {
     "data": {
      "image/png": "[encoded data removed]",
      "text/plain": [
       "<Figure size 432x288 with 1 Axes>"
      ]
     },
     "metadata": {
      "needs_background": "light"
     },
     "output_type": "display_data"
    }
   ],
   "source": [
    "# plot the relationship\n",
    "sns.regplot(x=y_pred, y=y_train_log)\n",
    "plt.xlabel('Predicted Log Age')\n",
    "plt.ylabel('Log Age')"
   ]
  },
  {
   "cell_type": "markdown",
   "metadata": {
    "slideshow": {
     "slide_type": "subslide"
    }
   },
   "source": [
    "Alright, seems like a definite improvement, right? We might agree on that.\n",
    "\n",
    "But we can't forget about interpretability? The MAE is much less interpretable now\n",
    "- do you know why?\n"
   ]
  },
  {
   "cell_type": "markdown",
   "metadata": {
    "slideshow": {
     "slide_type": "slide"
    }
   },
   "source": [
    "### Tweak the hyperparameters¶\n",
    "\n",
    "Many machine learning algorithms have hyperparameters that can be \"tuned\" to optimize model fitting.\n",
    "\n",
    "Careful parameter tuning can really improve a model, but haphazard tuning will often lead to overfitting.\n",
    "\n",
    "Our SVR model has multiple hyperparameters. Let's explore some approaches for tuning them"
   ]
  },
  {
   "cell_type": "markdown",
   "metadata": {
    "slideshow": {
     "slide_type": "subslide"
    }
   },
   "source": [
    "for 1000 points, what is a parameter?"
   ]
  },
  {
   "cell_type": "code",
   "execution_count": 52,
   "metadata": {
    "slideshow": {
     "slide_type": "subslide"
    }
   },
   "outputs": [],
   "source": [
    "SVR?"
   ]
  },
  {
   "cell_type": "markdown",
   "metadata": {
    "slideshow": {
     "slide_type": "slide"
    }
   },
   "source": [
    "Now, how do we know what parameter tuning does?\n",
    "\n",
    "- One way is to plot a **Validation Curve**, this will let us view changes in training and validation accuracy of a model as we shift its hyperparameters. We can do this easily with sklearn.\n"
   ]
  },
  {
   "cell_type": "markdown",
   "metadata": {
    "slideshow": {
     "slide_type": "subslide"
    }
   },
   "source": [
    "We'll fit the same model, but with a range of different values for `C`\n",
    " - The C parameter tells the SVM optimization how much you want to avoid misclassifying each training example. For large values of C, the optimization will choose a smaller-margin hyperplane if that hyperplane does a better job of getting all the training points classified correctly. Conversely, a very small value of C will cause the optimizer to look for a larger-margin separating hyperplane, even if that hyperplane misclassifies more points. For very tiny values of C, you should get misclassified examples, often even if your training data is linearly separable.\n"
   ]
  },
  {
   "cell_type": "code",
   "execution_count": 69,
   "metadata": {
    "slideshow": {
     "slide_type": "subslide"
    }
   },
   "outputs": [],
   "source": [
    "from sklearn.model_selection import validation_curve\n",
    "\n",
    "\n",
    "\n",
    "C_range = 10. ** np.arange(-3, 7)\n",
    "train_scores, valid_scores = validation_curve(lin_svr, X_train, y_train_log, \n",
    "                                              param_name= \"C\",\n",
    "                                              param_range = C_range,\n",
    "                                              cv=10,\n",
    "                                              scoring='neg_mean_squared_error')\n",
    "\n"
   ]
  },
  {
   "cell_type": "code",
   "execution_count": 70,
   "metadata": {
    "slideshow": {
     "slide_type": "subslide"
    }
   },
   "outputs": [
    {
     "data": {
      "text/html": [
       "<div>\n",
       "<style scoped>\n",
       "    .dataframe tbody tr th:only-of-type {\n",
       "        vertical-align: middle;\n",
       "    }\n",
       "\n",
       "    .dataframe tbody tr th {\n",
       "        vertical-align: top;\n",
       "    }\n",
       "\n",
       "    .dataframe thead th {\n",
       "        text-align: right;\n",
       "    }\n",
       "</style>\n",
       "<table border=\"1\" class=\"dataframe\">\n",
       "  <thead>\n",
       "    <tr style=\"text-align: right;\">\n",
       "      <th></th>\n",
       "      <th>C</th>\n",
       "      <th>Fold</th>\n",
       "      <th>Score</th>\n",
       "      <th>Type</th>\n",
       "    </tr>\n",
       "  </thead>\n",
       "  <tbody>\n",
       "    <tr>\n",
       "      <th>0</th>\n",
       "      <td>0</td>\n",
       "      <td>0</td>\n",
       "      <td>-0.187304</td>\n",
       "      <td>Train</td>\n",
       "    </tr>\n",
       "    <tr>\n",
       "      <th>1</th>\n",
       "      <td>0</td>\n",
       "      <td>1</td>\n",
       "      <td>-0.216119</td>\n",
       "      <td>Train</td>\n",
       "    </tr>\n",
       "    <tr>\n",
       "      <th>2</th>\n",
       "      <td>0</td>\n",
       "      <td>2</td>\n",
       "      <td>-0.208204</td>\n",
       "      <td>Train</td>\n",
       "    </tr>\n",
       "    <tr>\n",
       "      <th>3</th>\n",
       "      <td>0</td>\n",
       "      <td>3</td>\n",
       "      <td>-0.214890</td>\n",
       "      <td>Train</td>\n",
       "    </tr>\n",
       "    <tr>\n",
       "      <th>4</th>\n",
       "      <td>0</td>\n",
       "      <td>4</td>\n",
       "      <td>-0.206405</td>\n",
       "      <td>Train</td>\n",
       "    </tr>\n",
       "  </tbody>\n",
       "</table>\n",
       "</div>"
      ],
      "text/plain": [
       "   C  Fold     Score   Type\n",
       "0  0     0 -0.187304  Train\n",
       "1  0     1 -0.216119  Train\n",
       "2  0     2 -0.208204  Train\n",
       "3  0     3 -0.214890  Train\n",
       "4  0     4 -0.206405  Train"
      ]
     },
     "execution_count": 70,
     "metadata": {},
     "output_type": "execute_result"
    }
   ],
   "source": [
    "# A bit of pandas magic to prepare the data for a seaborn plot\n",
    "\n",
    "tScores = pd.DataFrame(train_scores).stack().reset_index()\n",
    "tScores.columns = ['C','Fold','Score']\n",
    "tScores.loc[:,'Type'] = ['Train' for x in range(len(tScores))]\n",
    "\n",
    "vScores = pd.DataFrame(valid_scores).stack().reset_index()\n",
    "vScores.columns = ['C','Fold','Score']\n",
    "vScores.loc[:,'Type'] = ['Validate' for x in range(len(vScores))]\n",
    "\n",
    "ValCurves = pd.concat([tScores,vScores]).reset_index(drop=True)\n",
    "ValCurves.head()"
   ]
  },
  {
   "cell_type": "code",
   "execution_count": 72,
   "metadata": {},
   "outputs": [
    {
     "data": {
      "text/plain": [
       "<seaborn.axisgrid.FacetGrid at 0x7fd9954710d0>"
      ]
     },
     "execution_count": 72,
     "metadata": {},
     "output_type": "execute_result"
    },
    {
     "data": {
      "image/png": "[encoded data removed]",
      "text/plain": [
       "<Figure size 436.5x360 with 1 Axes>"
      ]
     },
     "metadata": {
      "needs_background": "light"
     },
     "output_type": "display_data"
    }
   ],
   "source": [
    "# and plot the results\n",
    "\n",
    "g = sns.catplot(x='C',y='Score',hue='Type',data=ValCurves,kind='point')\n",
    "plt.xticks(range(10))\n",
    "g.set_xticklabels(C_range, rotation=90)"
   ]
  },
  {
   "cell_type": "markdown",
   "metadata": {
    "slideshow": {
     "slide_type": "subslide"
    }
   },
   "source": [
    "It looks like accuracy is better for higher values of `C`, and plateaus somewhere between 0.1 and 1.\n",
    "\n",
    "The default setting is `C=1`, so it looks like we can't really improve much by changing `C`.\n",
    "\n",
    "But our SVR model actually has two hyperparameters, `C` and `epsilon`. Perhaps there is an optimal combination of settings for these two parameters.\n",
    "\n",
    "We can explore that somewhat quickly with a `grid search`, which is once again easily achieved with `sklearn`.\n",
    "\n",
    "Because we are fitting the model multiple times witih cross-validation, this will take some time ...\n"
   ]
  },
  {
   "cell_type": "markdown",
   "metadata": {
    "slideshow": {
     "slide_type": "slide"
    }
   },
   "source": [
    "### Let's tune some hyperparameters"
   ]
  },
  {
   "cell_type": "code",
   "execution_count": 75,
   "metadata": {
    "slideshow": {
     "slide_type": "subslide"
    }
   },
   "outputs": [
    {
     "data": {
      "text/plain": [
       "GridSearchCV(cv=10, estimator=SVR(kernel='linear'),\n",
       "             param_grid={'C': array([1.e-03, 1.e-02, 1.e-01, 1.e+00, 1.e+01, 1.e+02, 1.e+03, 1.e+04,\n",
       "       1.e+05, 1.e+06, 1.e+07]),\n",
       "                         'epsilon': array([1.e-03, 1.e-02, 1.e-01, 1.e+00, 1.e+01, 1.e+02, 1.e+03, 1.e+04,\n",
       "       1.e+05, 1.e+06, 1.e+07])})"
      ]
     },
     "execution_count": 75,
     "metadata": {},
     "output_type": "execute_result"
    }
   ],
   "source": [
    "from sklearn.model_selection import GridSearchCV\n",
    "\n",
    "C_range = 10. ** np.arange(-3, 8)\n",
    "epsilon_range = 10. ** np.arange(-3, 8)\n",
    "\n",
    "param_grid = dict(epsilon=epsilon_range, C=C_range)\n",
    "\n",
    "grid = GridSearchCV(lin_svr, param_grid=param_grid, cv=10)\n",
    "\n",
    "grid.fit(X_train, y_train_log)"
   ]
  },
  {
   "cell_type": "markdown",
   "metadata": {
    "slideshow": {
     "slide_type": "subslide"
    }
   },
   "source": [
    "Now that the grid search has completed, let's find out what was the \"best\" parameter combination"
   ]
  },
  {
   "cell_type": "code",
   "execution_count": 77,
   "metadata": {
    "slideshow": {
     "slide_type": "fragment"
    }
   },
   "outputs": [
    {
     "name": "stdout",
     "output_type": "stream",
     "text": [
      "{'C': 0.01, 'epsilon': 0.01}\n"
     ]
    }
   ],
   "source": [
    "print(grid.best_params_)"
   ]
  },
  {
   "cell_type": "markdown",
   "metadata": {
    "slideshow": {
     "slide_type": "subslide"
    }
   },
   "source": [
    "And if redo our cross-validation with this parameter set?"
   ]
  },
  {
   "cell_type": "code",
   "execution_count": 79,
   "metadata": {
    "slideshow": {
     "slide_type": "subslide"
    }
   },
   "outputs": [],
   "source": [
    "y_pred = cross_val_predict(SVR(kernel='linear',\n",
    "                               C=grid.best_params_['C'],\n",
    "                               epsilon=grid.best_params_['epsilon'], \n",
    "                               gamma='auto'), \n",
    "                           X_train, y_train_log, cv=10)\n",
    "\n",
    "# scores\n",
    "acc = r2_score(y_train_log, y_pred)\n",
    "mae = mean_absolute_error(y_train_log,y_pred)"
   ]
  },
  {
   "cell_type": "code",
   "execution_count": 83,
   "metadata": {
    "slideshow": {
     "slide_type": "subslide"
    }
   },
   "outputs": [
    {
     "name": "stdout",
     "output_type": "stream",
     "text": [
      "R2: 0.6918967934598623\n",
      "MAE: 0.26595760648195826\n"
     ]
    }
   ],
   "source": [
    "# print model performance\n",
    "print('R2:', acc)\n",
    "print('MAE:', mae)"
   ]
  },
  {
   "cell_type": "code",
   "execution_count": 84,
   "metadata": {},
   "outputs": [
    {
     "data": {
      "text/plain": [
       "Text(0, 0.5, 'Log Age')"
      ]
     },
     "execution_count": 84,
     "metadata": {},
     "output_type": "execute_result"
    },
    {
     "data": {
      "image/png": "[encoded data removed]",
      "text/plain": [
       "<Figure size 432x288 with 1 Axes>"
      ]
     },
     "metadata": {
      "needs_background": "light"
     },
     "output_type": "display_data"
    }
   ],
   "source": [
    "# and plot the results\n",
    "sns.regplot(x=y_pred, y=y_train_log)\n",
    "plt.xlabel('Predicted Log Age')\n",
    "plt.ylabel('Log Age')"
   ]
  },
  {
   "cell_type": "markdown",
   "metadata": {
    "slideshow": {
     "slide_type": "subslide"
    }
   },
   "source": [
    "Perhaps unsurprisingly, the model fit is only very slightly improved from what we had with our defaults. **There's a reason they are defaults, you [schmock](https://en.wikipedia.org/wiki/Schmuck_(pejorative))**\n",
    "\n",
    "Grid search can be a powerful and useful tool. But can you think of a way that, if not properly utilized, it could lead to overfitting? Could it be happening here?\n",
    "\n",
    "You can find a nice set of tutorials with links to very helpful content regarding how to tune hyperparameters while being aware of over- and under-fitting here:\n",
    "\n",
    "https://scikit-learn.org/stable/modules/learning_curve.html\n"
   ]
  }
 ],
 "metadata": {
  "anaconda-cloud": {},
  "celltoolbar": "Slideshow",
  "kernelspec": {
   "display_name": "Python 3 (ipykernel)",
   "language": "python",
   "name": "python3"
  },
  "language_info": {
   "codemirror_mode": {
    "name": "ipython",
    "version": 3
   },
   "file_extension": ".py",
   "mimetype": "text/x-python",
   "name": "python",
   "nbconvert_exporter": "python",
   "pygments_lexer": "ipython3",
   "version": "3.8.5"
  }
 },
 "nbformat": 4,
 "nbformat_minor": 2
}
